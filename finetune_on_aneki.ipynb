{
 "cells": [
  {
   "cell_type": "code",
   "execution_count": 1,
   "metadata": {},
   "outputs": [
    {
     "name": "stderr",
     "output_type": "stream",
     "text": [
      "/home/27a_sul@lab.graphicon.ru/miniconda3/envs/nlp/lib/python3.12/site-packages/tqdm/auto.py:21: TqdmWarning: IProgress not found. Please update jupyter and ipywidgets. See https://ipywidgets.readthedocs.io/en/stable/user_install.html\n",
      "  from .autonotebook import tqdm as notebook_tqdm\n"
     ]
    }
   ],
   "source": [
    "from transformers import GPT2LMHeadModel, GPT2Tokenizer, Trainer, TrainingArguments, TextDataset, DataCollatorForLanguageModeling"
   ]
  },
  {
   "cell_type": "code",
   "execution_count": 2,
   "metadata": {},
   "outputs": [],
   "source": [
    "import os\n",
    "os.environ[\"CUDA_VISIBLE_DEVICES\"] = '1'"
   ]
  },
  {
   "cell_type": "code",
   "execution_count": 3,
   "metadata": {},
   "outputs": [],
   "source": [
    "model_name = \"ai-forever/rugpt2large\"\n",
    "model = GPT2LMHeadModel.from_pretrained(model_name)\n",
    "tokenizer = GPT2Tokenizer.from_pretrained(model_name)"
   ]
  },
  {
   "cell_type": "code",
   "execution_count": 4,
   "metadata": {},
   "outputs": [
    {
     "data": {
      "text/plain": [
       "Embedding(50260, 1280)"
      ]
     },
     "execution_count": 4,
     "metadata": {},
     "output_type": "execute_result"
    }
   ],
   "source": [
    "tokenizer.add_special_tokens({'pad_token': '<|pad|>', 'bos_token': '<|startoftext|>', 'eos_token': '<|endoftext|>'})\n",
    "model.resize_token_embeddings(len(tokenizer))"
   ]
  },
  {
   "cell_type": "code",
   "execution_count": 5,
   "metadata": {},
   "outputs": [],
   "source": [
    "def load_dataset(file_path, tokenizer, block_size=256):\n",
    "    dataset = TextDataset(\n",
    "        tokenizer=tokenizer,\n",
    "        file_path=file_path,\n",
    "        block_size=block_size\n",
    "    )\n",
    "    return dataset"
   ]
  },
  {
   "cell_type": "code",
   "execution_count": null,
   "metadata": {},
   "outputs": [],
   "source": [
    "!gdown 18oCseBD3UpD2ode0TQqMHlcLMULNa1cZ"
   ]
  },
  {
   "cell_type": "code",
   "execution_count": 6,
   "metadata": {},
   "outputs": [
    {
     "name": "stderr",
     "output_type": "stream",
     "text": [
      "/home/27a_sul@lab.graphicon.ru/miniconda3/envs/nlp/lib/python3.12/site-packages/transformers/data/datasets/language_modeling.py:53: FutureWarning: This dataset will be removed from the library soon, preprocessing should be handled with the 🤗 Datasets library. You can have a look at this example script for pointers: https://github.com/huggingface/transformers/blob/main/examples/pytorch/language-modeling/run_mlm.py\n",
      "  warnings.warn(\n"
     ]
    }
   ],
   "source": [
    "file_path = \"aneki.txt\"\n",
    "train_dataset = load_dataset(file_path, tokenizer)"
   ]
  },
  {
   "cell_type": "code",
   "execution_count": 7,
   "metadata": {},
   "outputs": [],
   "source": [
    "data_collator = DataCollatorForLanguageModeling(\n",
    "    tokenizer=tokenizer,\n",
    "    mlm=False\n",
    ")"
   ]
  },
  {
   "cell_type": "code",
   "execution_count": 8,
   "metadata": {},
   "outputs": [
    {
     "data": {
      "text/html": [
       "\n",
       "    <div>\n",
       "      \n",
       "      <progress value='1353' max='1353' style='width:300px; height:20px; vertical-align: middle;'></progress>\n",
       "      [1353/1353 44:27, Epoch 2/3]\n",
       "    </div>\n",
       "    <table border=\"1\" class=\"dataframe\">\n",
       "  <thead>\n",
       " <tr style=\"text-align: left;\">\n",
       "      <th>Step</th>\n",
       "      <th>Training Loss</th>\n",
       "    </tr>\n",
       "  </thead>\n",
       "  <tbody>\n",
       "    <tr>\n",
       "      <td>100</td>\n",
       "      <td>3.488100</td>\n",
       "    </tr>\n",
       "    <tr>\n",
       "      <td>200</td>\n",
       "      <td>3.064100</td>\n",
       "    </tr>\n",
       "    <tr>\n",
       "      <td>300</td>\n",
       "      <td>3.026300</td>\n",
       "    </tr>\n",
       "    <tr>\n",
       "      <td>400</td>\n",
       "      <td>2.996700</td>\n",
       "    </tr>\n",
       "    <tr>\n",
       "      <td>500</td>\n",
       "      <td>2.917600</td>\n",
       "    </tr>\n",
       "    <tr>\n",
       "      <td>600</td>\n",
       "      <td>2.838100</td>\n",
       "    </tr>\n",
       "    <tr>\n",
       "      <td>700</td>\n",
       "      <td>2.842200</td>\n",
       "    </tr>\n",
       "    <tr>\n",
       "      <td>800</td>\n",
       "      <td>2.825900</td>\n",
       "    </tr>\n",
       "    <tr>\n",
       "      <td>900</td>\n",
       "      <td>2.817500</td>\n",
       "    </tr>\n",
       "    <tr>\n",
       "      <td>1000</td>\n",
       "      <td>2.577200</td>\n",
       "    </tr>\n",
       "    <tr>\n",
       "      <td>1100</td>\n",
       "      <td>2.573600</td>\n",
       "    </tr>\n",
       "    <tr>\n",
       "      <td>1200</td>\n",
       "      <td>2.577700</td>\n",
       "    </tr>\n",
       "    <tr>\n",
       "      <td>1300</td>\n",
       "      <td>2.573700</td>\n",
       "    </tr>\n",
       "  </tbody>\n",
       "</table><p>"
      ],
      "text/plain": [
       "<IPython.core.display.HTML object>"
      ]
     },
     "metadata": {},
     "output_type": "display_data"
    },
    {
     "data": {
      "text/plain": [
       "TrainOutput(global_step=1353, training_loss=2.8445280177982664, metrics={'train_runtime': 2670.7288, 'train_samples_per_second': 16.232, 'train_steps_per_second': 0.507, 'total_flos': 4.71054907342848e+16, 'train_loss': 2.8445280177982664, 'epoch': 2.9958483254912815})"
      ]
     },
     "execution_count": 8,
     "metadata": {},
     "output_type": "execute_result"
    }
   ],
   "source": [
    "training_args = TrainingArguments(\n",
    "    output_dir=\"./model_output\",       # Куда сохранять модель\n",
    "    overwrite_output_dir=True,        # Перезаписывать ли директорию\n",
    "    num_train_epochs=3,               # Количество эпох\n",
    "    per_device_train_batch_size=4,    # Размер батчей\n",
    "    gradient_accumulation_steps=8,    # Увеличивает эффективный размер батча\n",
    "    save_steps=500,                   # Как часто сохранять чекпоинты\n",
    "    save_total_limit=2,               # Максимум сохраненных чекпоинтов\n",
    "    logging_dir=\"./logs\",             # Логи\n",
    "    logging_steps=100,\n",
    "    learning_rate=5e-5,\n",
    "    weight_decay=0.01,\n",
    "    warmup_steps=500,\n",
    "    fp16=True,                        # Использовать ли смешанную точность\n",
    "    prediction_loss_only=True\n",
    ")\n",
    "\n",
    "trainer = Trainer(\n",
    "    model=model,\n",
    "    args=training_args,\n",
    "    train_dataset=train_dataset,\n",
    "    data_collator=data_collator\n",
    ")\n",
    "\n",
    "trainer.train()"
   ]
  },
  {
   "cell_type": "code",
   "execution_count": 9,
   "metadata": {},
   "outputs": [
    {
     "data": {
      "text/plain": [
       "('./fine_tuned_rugpt2/tokenizer_config.json',\n",
       " './fine_tuned_rugpt2/special_tokens_map.json',\n",
       " './fine_tuned_rugpt2/vocab.json',\n",
       " './fine_tuned_rugpt2/merges.txt',\n",
       " './fine_tuned_rugpt2/added_tokens.json')"
      ]
     },
     "execution_count": 9,
     "metadata": {},
     "output_type": "execute_result"
    }
   ],
   "source": [
    "trainer.save_model(\"./fine_tuned_rugpt2\")\n",
    "tokenizer.save_pretrained(\"./fine_tuned_rugpt2\")"
   ]
  },
  {
   "cell_type": "code",
   "execution_count": 10,
   "metadata": {},
   "outputs": [],
   "source": [
    "from transformers import pipeline"
   ]
  },
  {
   "cell_type": "code",
   "execution_count": 11,
   "metadata": {},
   "outputs": [],
   "source": [
    "fine_tuned_model = GPT2LMHeadModel.from_pretrained(\"./fine_tuned_rugpt2\")\n",
    "\n",
    "fine_tuned_tokenizer = GPT2Tokenizer.from_pretrained(\"./fine_tuned_rugpt2\")"
   ]
  },
  {
   "cell_type": "code",
   "execution_count": 24,
   "metadata": {},
   "outputs": [
    {
     "name": "stdout",
     "output_type": "stream",
     "text": [
      "\n",
      "Sample 1:\n",
      "<|startoftext|>В одном из кафе.- Мадам, это же вы вчера продали мне торт \"Наполеон\"?- Да, а что?- А почему у вас тогда нет ни одного ребенка?!\n",
      "\n",
      "Журналист спрашивает у кинозвезды, почему она до сих пор не замужем.- Понимаете, я не хочу выходить замуж, чтобы не портить свой гардероб.\n",
      "\n",
      "- Как ты познакомился с моей женой?- Я проходил мимо и увидел, как она идет по улице, ну я и решил подойти и познакомиться\n",
      "\n",
      "########################################################################################################################\n",
      "\n",
      "Sample 2:\n",
      "<|startoftext|>Об этом уже знают все, кроме тех, кто на это подписался.\n",
      "\n",
      "- Да вы просто п@рнуха какой-то! - заявила соседка моей жене после того, как я купил у нее пылесос.- Да, конечно, но зато в хорошем качестве!\n",
      "\n",
      "Как известно, самые лучшие друзья - это враги.Но бывает так, что именно друзья могут стать самыми злейшими врагами.\n",
      "\n",
      "Приходит муж домой, жена с работы -\n",
      "\n",
      "########################################################################################################################\n",
      "\n",
      "Sample 3:\n",
      "<|startoftext|>- Папа, а откуда берутся дети?- А я тебе больше скажу, сынок, из задницы!\n",
      "\n",
      "На экзамене в мединституте:- Назовите признаки, по которым вы отличаете мужскую голову от женской?- Ну, во-первых, они длиннее.\n",
      "\n",
      "По данным статистики, 80% людей, потерявших деньги на улице, не могут вспомнить где это произошло.\n",
      "\n",
      "- Как вы познакомились?- Я случайно проходил мимо ее подъезда. Увидел ее с сигаретой\n",
      "\n",
      "########################################################################################################################\n",
      "\n",
      "Sample 4:\n",
      "<|startoftext|>Муж возвращается из командировки и говорит жене:- Милая, мы с тобой не ссорились?\n",
      "\n",
      "В день, когда в России перестанут выпускать спиртное и на прилавках появится водка, в Киеве состоится парад на Красной площади.\n",
      "\n",
      "На уроке географии:- Дети, а теперь нарисуйте город в треугольнике!- Я в него не вписываюсь!- Не знаю, как в твой город вписываются остальные дети, а вот я в него вписываюсь...\n",
      "\n",
      "Если бы не\n",
      "\n",
      "########################################################################################################################\n",
      "\n",
      "Sample 5:\n",
      "<|startoftext|>- Ну, вот, еще один мой проект, который никак не реализуем.- И что же ты там придумал?- Огород и кроликов.\n",
      "\n",
      "- Что общего между программистом и женщиной?- И тот и другая работают до потери пульса.\n",
      "\n",
      "Женщина звонит на работу своему парню:- Ой, что это за жуткий вой? Ты в опасности?- Нет, но мне нужно срочно уладить одно дело, поэтому меня долго не будет, к вечеру вернусь.Жена, радостно:-\n",
      "\n",
      "########################################################################################################################\n"
     ]
    }
   ],
   "source": [
    "generator = pipeline(\"text-generation\", model=fine_tuned_model, tokenizer=fine_tuned_tokenizer, device=0)\n",
    "\n",
    "num_samples = 5\n",
    "\n",
    "result = generator(\n",
    "    \"<|startoftext|>\",\n",
    "    max_length=100,             # Максимальная длина текста\n",
    "    num_return_sequences=5,    # Сколько сэмплов нужно\n",
    "    do_sample=True,            # Включение стохастической генерации\n",
    "    temperature=1.0,           # Регулировка разнообразия\n",
    "    top_k=50,                  # Оставить только 50 наиболее вероятных токенов\n",
    "    top_p=0.9                  # Nucleus sampling: использовать слова, сумма вероятностей которых <= 0.9\n",
    ")\n",
    "\n",
    "for i, sample in enumerate(result):\n",
    "    print(f\"\\nSample {i + 1}:\\n{sample['generated_text']}\\n\")\n",
    "    print('#' * 120)"
   ]
  }
 ],
 "metadata": {
  "kernelspec": {
   "display_name": "nlp",
   "language": "python",
   "name": "python3"
  },
  "language_info": {
   "codemirror_mode": {
    "name": "ipython",
    "version": 3
   },
   "file_extension": ".py",
   "mimetype": "text/x-python",
   "name": "python",
   "nbconvert_exporter": "python",
   "pygments_lexer": "ipython3",
   "version": "3.12.8"
  }
 },
 "nbformat": 4,
 "nbformat_minor": 2
}
